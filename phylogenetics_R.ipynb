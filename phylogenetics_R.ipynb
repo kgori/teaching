{
 "cells": [
  {
   "cell_type": "markdown",
   "metadata": {},
   "source": []
  },
  {
   "cell_type": "markdown",
   "metadata": {},
   "source": [
    "# Likelihood phylogenetics examples\n",
    "\n",
    "Probabilistic phylogenetics methods rely on Markov models of sequence substitution. These describe the rates at which the different sequence characters exchange with each other, and define the probabilities with which substitutions occur in a given time period.\n",
    "\n",
    "Here, we will restrict ourselves to one of the simpler DNA models, the **Kimura Two Parameter model** (often abbreviated to **K80**). Other models of substitution $-$ including protein and codon models $-$ work according to the exact same principles.\n",
    "\n",
    "\n",
    "### Kimura's two parameter model\n",
    "\n",
    "This model allows for different substitution rates between *transitions* and *transversions*. Recall that transitions occur between DNA bases of the same chemical type, either purines or pyrimidines. Therefore, C -> T and A -> G substitutions are examples of transitions, whereas G -> T and T -> A are examples of transversions.\n",
    "\n",
    "In practice the transition and transversion parameters are collapsed into a single parameter, their ratio, $\\kappa$, hence the name Kimura's Two Parameter model.\n",
    "\n",
    "___K80 Instantaneous rate matrix ('Q' matrix)___\n",
    "\n",
    "\n",
    "| |   T   |   C   |   A   |   G   |\n",
    "|-|-------|-------|-------|-------|\n",
    "|**T**|-2-$\\kappa$|$\\kappa$|1 |   1   |\n",
    "|**C**|$\\kappa$|-2-$\\kappa$|1 |   1   |\n",
    "|**A**|   1   |   1   |-2-$\\kappa$|$\\kappa$|\n",
    "|**G**|   1   |   1   |$\\kappa$|-2-$\\kappa$|\n",
    "\n",
    "\n",
    "The table above shows the general format of the K80 Q matrix. This example has not been scaled yet to make its units expected substitutions per site. For K80 the appropriate scaling factor is 2 + $\\kappa$.\n",
    "\n",
    "\n",
    "In the next cell there is a function to produce a scaled K80 Q matrix for a given value of $\\kappa$. This function can be copied and pasted into an R session. Then it can be used to make a Q matrix with $\\kappa=2$ as\n",
    "\n",
    "    q <- make_k80_q_matrix(2)"
   ]
  },
  {
   "cell_type": "code",
   "execution_count": 1,
   "metadata": {
    "collapsed": true
   },
   "outputs": [],
   "source": [
    "# Return an instantaneous rate matrix ('Q' matrix)\n",
    "# according to the Kimura 2-parameter model\n",
    "# Example usage: \n",
    "#    q <- make_k80_q_matrix(2)\n",
    "make_k80_q_matrix <- function(kappa) {\n",
    "    values <- rep(1, 16)\n",
    "    values[c(2, 5, 12, 15)] <- kappa\n",
    "    values[c(1, 6, 11, 16)] <- (-2 - kappa)\n",
    "    m <- matrix(values, nrow = 4, dimnames = list(c(\"T\", \"C\", \"A\", \"G\"),\n",
    "                                                  c(\"T\", \"C\", \"A\", \"G\")))\n",
    "    \n",
    "    # Scale the matrix so the average mutation rate\n",
    "    # is 1 substitution per site\n",
    "    m / -mean(diag(m))  # always 2 + kappa for K80 model\n",
    "}"
   ]
  },
  {
   "cell_type": "markdown",
   "metadata": {},
   "source": [
    "### Substitution probabilities\n",
    "\n",
    "We use the Q matrix to calculate the probability of observing a change in a character in a given time period. This is given by the formula\n",
    "\n",
    "$P = e^{Qt}$\n",
    "\n",
    "where $e$ is the [matrix exponential function](https://en.wikipedia.org/wiki/Matrix_exponential), and $t$ is a length of time. Unlike parsimony, this accounts for all possible additional unobserved substitutions that may occur between the start and end point of the time period.\n",
    "\n",
    "##### Identifiability\n",
    "Although we call $t$ a length of time, what we are really considering is the mutation rate $\\times$ time. \n",
    "We need an external estimate of mutation rate or some fossil dating information to be able to disentangle the two, as otherwise we can't tell the difference between a high mutation rate acting over a short time, and a low mutation rate acting over a long time.\n",
    "\n",
    "The next cell provides code to calculate a substitution probability matrix ('P' matrix) from a Q and a length of time. For example, to calculate the substitution probabilities after 0.5 time units, for a Q with $\\kappa=1.5$:\n",
    "\n",
    "    q <- make_k80_q_matrix(1.5)\n",
    "    p <- make_p_matrix(q, 0.5)"
   ]
  },
  {
   "cell_type": "code",
   "execution_count": 2,
   "metadata": {
    "collapsed": true
   },
   "outputs": [],
   "source": [
    "# Return the transition probability matrix\n",
    "# for a given rate matrix (q_matrix) and\n",
    "# time interval (t)\n",
    "make_p_matrix <- function(q_matrix, t) {\n",
    "    require(\"Matrix\")  # for matrix exponential function, 'expm'\n",
    "    as.matrix(Matrix::expm(q_matrix * t))\n",
    "}"
   ]
  },
  {
   "cell_type": "markdown",
   "metadata": {},
   "source": [
    "### Exercise 1\n",
    "\n",
    "a) Create a Q matrix with $\\kappa=2$. Then, calculate P matrices for a variety of time intervals, ranging from time = 0 to some large number, e.g. 100. \n",
    "\n",
    "b) What is the trend in P as the length of time increases?\n",
    "\n",
    "c) Does the value of $\\kappa$ affect this trend?\n",
    "\n",
    "d) What might the probabilities at time = infinity represent?"
   ]
  },
  {
   "cell_type": "markdown",
   "metadata": {},
   "source": [
    "# Felsenstein's pruning algorithm\n",
    "\n",
    "Most of the time in phylogenetics we are interested in the trees implied by sequences, and not so much in probability matrices. The probabilities we have been working with so far can be used to compute the likelihood of a tree, which is the probability of seeing the sequences, given the parameters of the substitution model, the branch lengths and the tree topology. \n",
    "\n",
    "To do this properly we need to marginalise over (sum up over) all the possible unobserved ancestral sequences. The efficient way to do this is with **Felsenstein's pruning algorithm**. This is a recursive algorithm that works by calculating the **conditional likelihood vector (CLV)** at each ancestral node on the tree, starting with the ones nearest the tips and working towards the root. \n",
    "\n",
    "\n",
    "##### Conditional likelihood vectors\n",
    "\n",
    "A CLV is a vector of conditional probabilities, with one entry for each possible character. So, for DNA data, each CLV has four entries, corresponding to bases T, C, A and G. The first entry, for 'T', gives the conditional probability of observing the sequence data at all tips below this node, given that the nucleotide at this node is a T.\n",
    "\n",
    "\n",
    "CLVs for tip nodes are set from the sequence data. For example, the first entry, for 'T', is 1 if the sequence data at this tip is a T, otherwise it is 0. The CLV for 'T' would be $[1~0~0~0]$, and for 'A' would be $[0~0~1~0]$.\n",
    "\n",
    "\n",
    "___conditional likelihood vector calculation___\n",
    "\n",
    "To compute the CLV at a node all you need to know is the CLVs for the node's immediate descendents, and the 'P' matrices calculated for the descendant branch lengths. \n",
    "\n",
    "$L_{i}(x_{i}) = \\sum\\limits_{x_{j}}p_{x_{i}x_{j}}(t_{j})~L_{j}(x_{j}) \\times \\sum\\limits_{x_{k}}p_{x_{i}x_{k}}(t_{k})~L_{k}(x_{k})$\n",
    "\n",
    "There's no getting around that this is complicated, but it reads as\n",
    "\n",
    "\"the i-th CLV entry for base $x_i$ equals the product of a big summation term for the left descendant and another for the right descendant. Each big summation term is the sum over all $j$ possible characters in $x$ (i.e. T,C,A,G) of the substitution probability that base $x_i$ becomes base $x_j$ at the end of branch $j$, times the descendant CLV entry at position $j$. In matrix terms, this is the dot product of the 'P' matrix and the descendant CLV\"\n",
    "\n",
    "##### Overall tree likelihood\n",
    "\n",
    "Once the CLV at the tree's root has been filled in using the pruning algorithm, the overall likelihood is a weighted sum of the its entries, where the weights, $\\pi$, are the equilibrium frequencies for each character as defined by the substitution model. For K80 these are all 0.25.\n",
    "\n",
    "$L = \\sum\\limits_{i} \\pi_i~L_{root}(x_i)$\n",
    "\n",
    "The next cell provides some code for computing CLVs and root likelihoods\n"
   ]
  },
  {
   "cell_type": "code",
   "execution_count": 3,
   "metadata": {
    "collapsed": false
   },
   "outputs": [],
   "source": [
    "# Return the conditional likelihood vector for the node\n",
    "# with left and right descendant CLVs 'left_clv', 'right_clv',\n",
    "# with branch lengths 'left_branch_length' and 'right_branch_length'\n",
    "# for a model with rate matrix == 'q_matrix'\n",
    "# Example:\n",
    "#     clv_7 <- calculate_clv(make_k80_q_matrix(2), \n",
    "#                            0.2, c(1,0,0,0),\n",
    "#                            0.2, c(0,1,0,0))\n",
    "calculate_clv <- function(q_matrix, left_branch_length, left_clv, right_branch_length, right_clv) {\n",
    "    p_left <- make_p_matrix(q_matrix, left_branch_length)\n",
    "    p_right <- make_p_matrix(q_matrix, right_branch_length)\n",
    "    p_left %*% left_clv * p_right %*% right_clv\n",
    "}\n",
    "\n",
    "# Return the root likelihood (not the log-likelihood)\n",
    "# for a tree with CLV 'root_clv' at the root, and\n",
    "# equilibrium base frequencies 'pi'\n",
    "# Example:\n",
    "#     lnl <- log(root_likelihood(c(0.002532, 0.001838, 0.000165, 0.00801),\n",
    "#                                pi = c(0.25, 0.25, 0.25, 0.25)))\n",
    "root_likelihood <- function(root_clv, pi = NULL) {\n",
    "    if(is.null(pi)) {\n",
    "        pi <- rep(1, length(root_clv)) / length(root_clv)\n",
    "    }\n",
    "    sum(root_clv * pi)\n",
    "}"
   ]
  },
  {
   "cell_type": "markdown",
   "metadata": {},
   "source": []
  },
  {
   "cell_type": "markdown",
   "metadata": {
    "collapsed": true
   },
   "source": [
    "### Exercise 2\n",
    "\n",
    "The following figure is taken from Chapter 4 of [Computational Molecular Evolution](http://abacus.gene.ucl.ac.uk/CME/) by Ziheng Yang. It shows an example application of the pruning algorithm to calculate the conditional likelihood vectors for a single site on a small example tree. Most of the values have been removed.\n",
    "\n",
    "a) Try to fill in the missing values in the CLVs. The functions `make_k80_q_matrix` and `calculate_clv` should be all you need. Remember that internal branches ($t_6$, $t_7$ and $t_8$) are length 0.1, external branches ($t_1 - t_5$) are length 0.2, and $\\kappa = 2$.\n",
    "\n",
    "b) What is the likelihood of the tree? The log-likelihood?\n",
    "\n",
    "c) The values in the conditional likelihood vectors become quite small, even in this toy example. Why might this be a problem, and how could it be avoided?\n",
    "\n",
    "![Felsenstein's pruning algorithm](yang_fig.png \"Felsenstein's pruning algorithm\")"
   ]
  },
  {
   "cell_type": "code",
   "execution_count": null,
   "metadata": {
    "collapsed": true
   },
   "outputs": [],
   "source": []
  }
 ],
 "metadata": {
  "anaconda-cloud": {},
  "kernelspec": {
   "display_name": "R",
   "language": "R",
   "name": "ir"
  },
  "language_info": {
   "codemirror_mode": "r",
   "file_extension": ".r",
   "mimetype": "text/x-r-source",
   "name": "R",
   "pygments_lexer": "r",
   "version": "3.3.2"
  }
 },
 "nbformat": 4,
 "nbformat_minor": 2
}
